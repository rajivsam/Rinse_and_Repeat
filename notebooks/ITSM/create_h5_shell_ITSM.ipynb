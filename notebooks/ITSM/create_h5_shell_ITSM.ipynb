{
 "cells": [
  {
   "cell_type": "code",
   "execution_count": 1,
   "id": "ac9dd388-eafd-4849-a105-9f5eef92751c",
   "metadata": {},
   "outputs": [],
   "source": [
    "import tables\n",
    "import pandas as pd\n",
    "fpm = \"../../data/meta_data/ITSM_dataset.h5\"\n",
    "store = pd.HDFStore(fpm)"
   ]
  },
  {
   "cell_type": "code",
   "execution_count": 2,
   "id": "f2f9c4a9-16fe-403f-b2f3-60e7964aae72",
   "metadata": {},
   "outputs": [],
   "source": [
    "overview_summ = [{\"Version\" : 0.1 , \"Details\": \"see git repo url for details\"}]"
   ]
  },
  {
   "cell_type": "code",
   "execution_count": 3,
   "id": "ddc37c2d-1c1f-4667-81f0-d4dc43169450",
   "metadata": {},
   "outputs": [],
   "source": [
    "store[\"summary\"] = pd.DataFrame.from_dict(overview_summ)\n",
    "store.close()"
   ]
  },
  {
   "cell_type": "code",
   "execution_count": null,
   "id": "041724a1-13f2-409d-baab-470d3a6c3640",
   "metadata": {},
   "outputs": [],
   "source": []
  }
 ],
 "metadata": {
  "kernelspec": {
   "display_name": "Python 3 (ipykernel)",
   "language": "python",
   "name": "python3"
  },
  "language_info": {
   "codemirror_mode": {
    "name": "ipython",
    "version": 3
   },
   "file_extension": ".py",
   "mimetype": "text/x-python",
   "name": "python",
   "nbconvert_exporter": "python",
   "pygments_lexer": "ipython3",
   "version": "3.10.12"
  }
 },
 "nbformat": 4,
 "nbformat_minor": 5
}
