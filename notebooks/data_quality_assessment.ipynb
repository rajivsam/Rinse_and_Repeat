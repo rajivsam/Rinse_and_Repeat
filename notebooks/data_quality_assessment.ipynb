{
 "cells": [
  {
   "cell_type": "code",
   "execution_count": 1,
   "id": "b122dc82-4d3f-4dfd-9d38-36add4c4fd7f",
   "metadata": {},
   "outputs": [],
   "source": [
    "import pandas as pd\n",
    "import pandera as pa\n"
   ]
  },
  {
   "cell_type": "code",
   "execution_count": 2,
   "id": "4c552290-0589-46e1-b172-ac3d994392d5",
   "metadata": {},
   "outputs": [
    {
     "name": "stderr",
     "output_type": "stream",
     "text": [
      "/var/folders/fb/t_m5qpcj6qq85rvkh73vbxh40000gn/T/ipykernel_5807/2586147146.py:2: DtypeWarning: Columns (3,5,6) have mixed types. Specify dtype option on import or set low_memory=False.\n",
      "  df = pd.read_csv(fp)\n"
     ]
    }
   ],
   "source": [
    "fp = \"../data/online_retail_II.csv\"\n",
    "df = pd.read_csv(fp)"
   ]
  },
  {
   "cell_type": "code",
   "execution_count": 3,
   "id": "8f5f2960-c5e1-44e5-8afa-280aaeec3b15",
   "metadata": {},
   "outputs": [
    {
     "data": {
      "text/html": [
       "<div>\n",
       "<style scoped>\n",
       "    .dataframe tbody tr th:only-of-type {\n",
       "        vertical-align: middle;\n",
       "    }\n",
       "\n",
       "    .dataframe tbody tr th {\n",
       "        vertical-align: top;\n",
       "    }\n",
       "\n",
       "    .dataframe thead th {\n",
       "        text-align: right;\n",
       "    }\n",
       "</style>\n",
       "<table border=\"1\" class=\"dataframe\">\n",
       "  <thead>\n",
       "    <tr style=\"text-align: right;\">\n",
       "      <th></th>\n",
       "      <th>Invoice</th>\n",
       "      <th>StockCode</th>\n",
       "      <th>Description</th>\n",
       "      <th>Quantity</th>\n",
       "      <th>InvoiceDate</th>\n",
       "      <th>Price</th>\n",
       "      <th>Customer ID</th>\n",
       "      <th>Country</th>\n",
       "    </tr>\n",
       "  </thead>\n",
       "  <tbody>\n",
       "    <tr>\n",
       "      <th>0</th>\n",
       "      <td>489434</td>\n",
       "      <td>85048</td>\n",
       "      <td>15CM CHRISTMAS GLASS BALL 20 LIGHTS</td>\n",
       "      <td>12</td>\n",
       "      <td>12/1/09 7:45</td>\n",
       "      <td>6.95</td>\n",
       "      <td>13085.0</td>\n",
       "      <td>United Kingdom</td>\n",
       "    </tr>\n",
       "    <tr>\n",
       "      <th>1</th>\n",
       "      <td>489434</td>\n",
       "      <td>79323P</td>\n",
       "      <td>PINK CHERRY LIGHTS</td>\n",
       "      <td>12</td>\n",
       "      <td>12/1/09 7:45</td>\n",
       "      <td>6.75</td>\n",
       "      <td>13085.0</td>\n",
       "      <td>United Kingdom</td>\n",
       "    </tr>\n",
       "    <tr>\n",
       "      <th>2</th>\n",
       "      <td>489434</td>\n",
       "      <td>79323W</td>\n",
       "      <td>WHITE CHERRY LIGHTS</td>\n",
       "      <td>12</td>\n",
       "      <td>12/1/09 7:45</td>\n",
       "      <td>6.75</td>\n",
       "      <td>13085.0</td>\n",
       "      <td>United Kingdom</td>\n",
       "    </tr>\n",
       "    <tr>\n",
       "      <th>3</th>\n",
       "      <td>489434</td>\n",
       "      <td>22041</td>\n",
       "      <td>RECORD FRAME 7\" SINGLE SIZE</td>\n",
       "      <td>48</td>\n",
       "      <td>12/1/09 7:45</td>\n",
       "      <td>2.1</td>\n",
       "      <td>13085.0</td>\n",
       "      <td>United Kingdom</td>\n",
       "    </tr>\n",
       "    <tr>\n",
       "      <th>4</th>\n",
       "      <td>489434</td>\n",
       "      <td>21232</td>\n",
       "      <td>STRAWBERRY CERAMIC TRINKET BOX</td>\n",
       "      <td>24</td>\n",
       "      <td>12/1/09 7:45</td>\n",
       "      <td>1.25</td>\n",
       "      <td>13085.0</td>\n",
       "      <td>United Kingdom</td>\n",
       "    </tr>\n",
       "  </tbody>\n",
       "</table>\n",
       "</div>"
      ],
      "text/plain": [
       "  Invoice StockCode                          Description Quantity  \\\n",
       "0  489434     85048  15CM CHRISTMAS GLASS BALL 20 LIGHTS       12   \n",
       "1  489434    79323P                   PINK CHERRY LIGHTS       12   \n",
       "2  489434    79323W                  WHITE CHERRY LIGHTS       12   \n",
       "3  489434     22041         RECORD FRAME 7\" SINGLE SIZE        48   \n",
       "4  489434     21232       STRAWBERRY CERAMIC TRINKET BOX       24   \n",
       "\n",
       "    InvoiceDate Price Customer ID         Country  \n",
       "0  12/1/09 7:45  6.95     13085.0  United Kingdom  \n",
       "1  12/1/09 7:45  6.75     13085.0  United Kingdom  \n",
       "2  12/1/09 7:45  6.75     13085.0  United Kingdom  \n",
       "3  12/1/09 7:45   2.1     13085.0  United Kingdom  \n",
       "4  12/1/09 7:45  1.25     13085.0  United Kingdom  "
      ]
     },
     "execution_count": 3,
     "metadata": {},
     "output_type": "execute_result"
    }
   ],
   "source": [
    "df.head()"
   ]
  },
  {
   "cell_type": "code",
   "execution_count": 4,
   "id": "b4c9d9f7-bd52-44fe-ad17-d990733ebab8",
   "metadata": {},
   "outputs": [
    {
     "name": "stdout",
     "output_type": "stream",
     "text": [
      "<class 'pandas.core.frame.DataFrame'>\n",
      "RangeIndex: 1067372 entries, 0 to 1067371\n",
      "Data columns (total 8 columns):\n",
      " #   Column       Non-Null Count    Dtype \n",
      "---  ------       --------------    ----- \n",
      " 0   Invoice      1067372 non-null  object\n",
      " 1   StockCode    1067372 non-null  object\n",
      " 2   Description  1062990 non-null  object\n",
      " 3   Quantity     1067372 non-null  object\n",
      " 4   InvoiceDate  1067372 non-null  object\n",
      " 5   Price        1067372 non-null  object\n",
      " 6   Customer ID  824365 non-null   object\n",
      " 7   Country      1067372 non-null  object\n",
      "dtypes: object(8)\n",
      "memory usage: 65.1+ MB\n"
     ]
    }
   ],
   "source": [
    "df.info()"
   ]
  },
  {
   "cell_type": "code",
   "execution_count": 5,
   "id": "0db9e774-43ac-4078-bcb7-5afdf508e6f8",
   "metadata": {},
   "outputs": [
    {
     "data": {
      "text/plain": [
       "<Schema DataFrameSchema(columns={'Invoice': <Schema Column(name=Invoice, type=DataType(object))>, 'StockCode': <Schema Column(name=StockCode, type=DataType(object))>, 'Description': <Schema Column(name=Description, type=DataType(object))>, 'Quantity': <Schema Column(name=Quantity, type=DataType(object))>, 'InvoiceDate': <Schema Column(name=InvoiceDate, type=DataType(object))>, 'Price': <Schema Column(name=Price, type=DataType(object))>, 'Customer ID': <Schema Column(name=Customer ID, type=DataType(object))>, 'Country': <Schema Column(name=Country, type=DataType(object))>}, checks=[], index=<Schema Index(name=None, type=DataType(int64))>, coerce=True, dtype=None, strict=False, name=None, ordered=False, unique_column_names=False)>"
      ]
     },
     "execution_count": 5,
     "metadata": {},
     "output_type": "execute_result"
    }
   ],
   "source": [
    "pa.infer_schema(df)"
   ]
  },
  {
   "cell_type": "code",
   "execution_count": 6,
   "id": "82108cd7-db17-47d7-a5ef-97742d06897f",
   "metadata": {},
   "outputs": [
    {
     "data": {
      "text/plain": [
       "Index(['Invoice', 'StockCode', 'Description', 'Quantity', 'InvoiceDate',\n",
       "       'Price', 'Customer ID', 'Country'],\n",
       "      dtype='object')"
      ]
     },
     "execution_count": 6,
     "metadata": {},
     "output_type": "execute_result"
    }
   ],
   "source": [
    "df.columns"
   ]
  },
  {
   "cell_type": "code",
   "execution_count": 7,
   "id": "8881f698-5888-476c-8f5d-d1b61a5fbe67",
   "metadata": {},
   "outputs": [],
   "source": [
    "# from pandera import Check, Column, DataFrameSchema\n",
    "# from pandera.engines import pandas_engine\n",
    "\n",
    "\n",
    "# retail_data_prelim_schema = DataFrameSchema({\n",
    "#     \"Invoice\": Column(str, nullable=False),\n",
    "#     #\"StockCode\":  Column(str, Check.str_matches(r'^[0-9A-Z]{5,}$'), nullable=False),\n",
    "#     \"StockCode\":  Column(str, nullable=False),\n",
    "#     \"Description\":  Column(str, nullable=False),\n",
    "#     \"Quantity\": Column(int, nullable=False),\n",
    "#     \"InvoiceDate\":  Column(pd.DatetimeTZDtype(unit=\"ns\", tz=\"UTC\"), nullable=False),\n",
    "#     \"Price\": Column(float, Check.greater_than(0), nullable=False),\n",
    "#     \"Customer ID\": Column(str, nullable=False),\n",
    "#     \"Country\": Column(str, nullable=False)\n",
    "# })\n",
    "\n",
    "# retail_data_prelim_schema.validate(df)"
   ]
  },
  {
   "cell_type": "code",
   "execution_count": 8,
   "id": "38bfc856-997b-4891-8b98-2e98473659bd",
   "metadata": {},
   "outputs": [
    {
     "name": "stdout",
     "output_type": "stream",
     "text": [
      "Invoice data has values that are as expected\n"
     ]
    }
   ],
   "source": [
    "from pandera.errors import SchemaErrors\n",
    "invoice_schema = pa.SeriesSchema(\n",
    "    str,\n",
    "    coerce=True,\n",
    "    nullable=False,\n",
    "    name=\"Invoice\")\n",
    "try:\n",
    "    validated_invoices = invoice_schema.validate(df[\"Invoice\"])\n",
    "    print(\"Invoice data has values that are as expected\")\n",
    "except SchemaErrors as se:\n",
    "    print(\"Invoice data needs analysis - has values that are unexpected!\")\n",
    "    print(\"Failure Cases:\")\n",
    "    print(se.failure_cases)"
   ]
  },
  {
   "cell_type": "code",
   "execution_count": 9,
   "id": "49d4e475-9413-4a4b-8c7d-b90c9775bd65",
   "metadata": {},
   "outputs": [],
   "source": [
    "stock_code_schema = pa.SeriesSchema(\n",
    "    str,\n",
    "    [pa.Check.str_matches(r'^[0-9A-Za-z]{4,}$')],\n",
    "    coerce=True,\n",
    "    nullable=False,\n",
    "    name=\"StockCode\")"
   ]
  },
  {
   "cell_type": "code",
   "execution_count": 10,
   "id": "b369cd28-5957-48f8-95a9-a4f87daa8d0f",
   "metadata": {},
   "outputs": [
    {
     "name": "stdout",
     "output_type": "stream",
     "text": [
      "SchemaError:          index failure_case\n",
      "0         735            D\n",
      "1         736            D\n",
      "2        2379          DOT\n",
      "3        2539          DOT\n",
      "4        2551          DOT\n",
      "...       ...          ...\n",
      "3640  1063783            M\n",
      "3641  1064830          DOT\n",
      "3642  1066370          DOT\n",
      "3643  1067002          DOT\n",
      "3644  1067003            M\n",
      "\n",
      "[3645 rows x 2 columns]\n"
     ]
    }
   ],
   "source": [
    "failure_cases = None\n",
    "try:\n",
    "    validated_stock_code = stock_code_schema.validate(df[\"StockCode\"])\n",
    "    print(\"StockCode data has values that are as expected\")\n",
    "except pa.errors.SchemaErrors as err:\n",
    "    print(\"StockCode data needs analysis - has values that are unexpected!\")\n",
    "    failure_cases = err.failure_cases\n",
    "except pa.errors.SchemaError as err:\n",
    "    print('SchemaError: ', err.failure_cases)\n",
    "    "
   ]
  },
  {
   "cell_type": "code",
   "execution_count": 11,
   "id": "4da19490-443c-41ac-ad03-8a4c3bdc8f88",
   "metadata": {},
   "outputs": [],
   "source": [
    "description_code_schema = pa.SeriesSchema(\n",
    "    str,\n",
    "    coerce=True,\n",
    "    nullable=False,\n",
    "    name=\"Description\")"
   ]
  },
  {
   "cell_type": "code",
   "execution_count": 12,
   "id": "ed444252-a18a-467f-89da-954a6eb6f307",
   "metadata": {},
   "outputs": [
    {
     "name": "stdout",
     "output_type": "stream",
     "text": [
      "SchemaError:          index failure_case\n",
      "0         470          NaN\n",
      "1        3114          NaN\n",
      "2        3161          NaN\n",
      "3        3731          NaN\n",
      "4        4296          NaN\n",
      "...       ...          ...\n",
      "4377  1060784          NaN\n",
      "4378  1060788          NaN\n",
      "4379  1060794          NaN\n",
      "4380  1062443          NaN\n",
      "4381  1064016          NaN\n",
      "\n",
      "[4382 rows x 2 columns]\n"
     ]
    }
   ],
   "source": [
    "failure_cases = None\n",
    "try:\n",
    "    description_code_validation = description_code_schema.validate(df[\"Description\"])\n",
    "    print(\"Description data has values that are as expected\")\n",
    "# except pa.errors.SchemaErrors as err:\n",
    "#     print(\"Description data needs analysis - has values that are unexpected!\")\n",
    "#     failure_cases = err.failure_cases\n",
    "except pa.errors.SchemaError as err:\n",
    "    print('SchemaError: ', err.failure_cases)"
   ]
  },
  {
   "cell_type": "code",
   "execution_count": 13,
   "id": "c112a924-197c-41c4-adcd-b2069fe4d80e",
   "metadata": {},
   "outputs": [],
   "source": [
    "quantity_schema = pa.SeriesSchema(\n",
    "    int,\n",
    "    [pa.Check.greater_than(0)],\n",
    "    coerce=True,\n",
    "    nullable=False,\n",
    "    name=\"Quantity\")"
   ]
  },
  {
   "cell_type": "code",
   "execution_count": 14,
   "id": "0942fbfc-b0be-4497-880f-fedeb6a4d559",
   "metadata": {},
   "outputs": [
    {
     "name": "stdout",
     "output_type": "stream",
     "text": [
      "SchemaError:      index failure_case\n",
      "0  525461     Quantity\n"
     ]
    }
   ],
   "source": [
    "failure_cases = None\n",
    "try:\n",
    "    quantity_validation = quantity_schema.validate(df[\"Quantity\"])\n",
    "    print(\"Quantity data has values that are as expected\")\n",
    "except pa.errors.SchemaError as err:\n",
    "    print('SchemaError: ', err.failure_cases)"
   ]
  },
  {
   "cell_type": "code",
   "execution_count": 15,
   "id": "b3d8d1cd-415d-43d7-a4d3-462ec0e13210",
   "metadata": {},
   "outputs": [
    {
     "data": {
      "text/plain": [
       "'Quantity'"
      ]
     },
     "execution_count": 15,
     "metadata": {},
     "output_type": "execute_result"
    }
   ],
   "source": [
    "df[\"Quantity\"][525461]"
   ]
  },
  {
   "cell_type": "code",
   "execution_count": 16,
   "id": "a82fcc61-6fd8-4557-8a6f-53c2f693f7ec",
   "metadata": {},
   "outputs": [],
   "source": [
    "invoice_date_schema = pa.SeriesSchema(\n",
    "    pd.DatetimeTZDtype(unit=\"ns\", tz=\"UTC\"),\n",
    "    coerce=True,\n",
    "    nullable=False,\n",
    "    name=\"InvoiceDate\")"
   ]
  },
  {
   "cell_type": "code",
   "execution_count": 17,
   "id": "96e3744b-0dc6-4f06-9606-c024df2c7e6c",
   "metadata": {},
   "outputs": [
    {
     "name": "stdout",
     "output_type": "stream",
     "text": [
      "SchemaError:      index failure_case\n",
      "0  525461  InvoiceDate\n"
     ]
    }
   ],
   "source": [
    "failure_cases = None\n",
    "try:\n",
    "    invoice_date_validation = invoice_date_schema.validate(df[\"InvoiceDate\"])\n",
    "    print(\"InvoiceDate data has values that are as expected\")\n",
    "except pa.errors.SchemaError as err:\n",
    "    print('SchemaError: ', err.failure_cases)"
   ]
  },
  {
   "cell_type": "code",
   "execution_count": 18,
   "id": "baf3deb3-14c6-4f52-bc42-1f8e7bbae422",
   "metadata": {},
   "outputs": [
    {
     "data": {
      "text/plain": [
       "'InvoiceDate'"
      ]
     },
     "execution_count": 18,
     "metadata": {},
     "output_type": "execute_result"
    }
   ],
   "source": [
    "df[\"InvoiceDate\"][525461]"
   ]
  },
  {
   "cell_type": "code",
   "execution_count": 19,
   "id": "d60b136b-8750-4526-888a-62594b4d78d1",
   "metadata": {},
   "outputs": [],
   "source": [
    "df = df.drop(index=525461)\n"
   ]
  },
  {
   "cell_type": "code",
   "execution_count": 20,
   "id": "cf12c099-3d1a-45a3-9d33-15e25d7debd7",
   "metadata": {},
   "outputs": [],
   "source": [
    "df = df.reset_index(drop=True)"
   ]
  },
  {
   "cell_type": "code",
   "execution_count": 21,
   "id": "f01ef46c-3595-4f1e-99a4-6932462fae40",
   "metadata": {},
   "outputs": [
    {
     "data": {
      "text/html": [
       "<div>\n",
       "<style scoped>\n",
       "    .dataframe tbody tr th:only-of-type {\n",
       "        vertical-align: middle;\n",
       "    }\n",
       "\n",
       "    .dataframe tbody tr th {\n",
       "        vertical-align: top;\n",
       "    }\n",
       "\n",
       "    .dataframe thead th {\n",
       "        text-align: right;\n",
       "    }\n",
       "</style>\n",
       "<table border=\"1\" class=\"dataframe\">\n",
       "  <thead>\n",
       "    <tr style=\"text-align: right;\">\n",
       "      <th></th>\n",
       "      <th>Invoice</th>\n",
       "      <th>StockCode</th>\n",
       "      <th>Description</th>\n",
       "      <th>Quantity</th>\n",
       "      <th>InvoiceDate</th>\n",
       "      <th>Price</th>\n",
       "      <th>Customer ID</th>\n",
       "      <th>Country</th>\n",
       "    </tr>\n",
       "  </thead>\n",
       "  <tbody>\n",
       "    <tr>\n",
       "      <th>0</th>\n",
       "      <td>489434</td>\n",
       "      <td>85048</td>\n",
       "      <td>15CM CHRISTMAS GLASS BALL 20 LIGHTS</td>\n",
       "      <td>12</td>\n",
       "      <td>12/1/09 7:45</td>\n",
       "      <td>6.95</td>\n",
       "      <td>13085.0</td>\n",
       "      <td>United Kingdom</td>\n",
       "    </tr>\n",
       "    <tr>\n",
       "      <th>1</th>\n",
       "      <td>489434</td>\n",
       "      <td>79323P</td>\n",
       "      <td>PINK CHERRY LIGHTS</td>\n",
       "      <td>12</td>\n",
       "      <td>12/1/09 7:45</td>\n",
       "      <td>6.75</td>\n",
       "      <td>13085.0</td>\n",
       "      <td>United Kingdom</td>\n",
       "    </tr>\n",
       "    <tr>\n",
       "      <th>2</th>\n",
       "      <td>489434</td>\n",
       "      <td>79323W</td>\n",
       "      <td>WHITE CHERRY LIGHTS</td>\n",
       "      <td>12</td>\n",
       "      <td>12/1/09 7:45</td>\n",
       "      <td>6.75</td>\n",
       "      <td>13085.0</td>\n",
       "      <td>United Kingdom</td>\n",
       "    </tr>\n",
       "    <tr>\n",
       "      <th>3</th>\n",
       "      <td>489434</td>\n",
       "      <td>22041</td>\n",
       "      <td>RECORD FRAME 7\" SINGLE SIZE</td>\n",
       "      <td>48</td>\n",
       "      <td>12/1/09 7:45</td>\n",
       "      <td>2.1</td>\n",
       "      <td>13085.0</td>\n",
       "      <td>United Kingdom</td>\n",
       "    </tr>\n",
       "    <tr>\n",
       "      <th>4</th>\n",
       "      <td>489434</td>\n",
       "      <td>21232</td>\n",
       "      <td>STRAWBERRY CERAMIC TRINKET BOX</td>\n",
       "      <td>24</td>\n",
       "      <td>12/1/09 7:45</td>\n",
       "      <td>1.25</td>\n",
       "      <td>13085.0</td>\n",
       "      <td>United Kingdom</td>\n",
       "    </tr>\n",
       "    <tr>\n",
       "      <th>...</th>\n",
       "      <td>...</td>\n",
       "      <td>...</td>\n",
       "      <td>...</td>\n",
       "      <td>...</td>\n",
       "      <td>...</td>\n",
       "      <td>...</td>\n",
       "      <td>...</td>\n",
       "      <td>...</td>\n",
       "    </tr>\n",
       "    <tr>\n",
       "      <th>1067366</th>\n",
       "      <td>581587</td>\n",
       "      <td>22899</td>\n",
       "      <td>CHILDREN'S APRON DOLLY GIRL</td>\n",
       "      <td>6</td>\n",
       "      <td>12/9/11 12:50</td>\n",
       "      <td>2.1</td>\n",
       "      <td>12680.0</td>\n",
       "      <td>France</td>\n",
       "    </tr>\n",
       "    <tr>\n",
       "      <th>1067367</th>\n",
       "      <td>581587</td>\n",
       "      <td>23254</td>\n",
       "      <td>CHILDRENS CUTLERY DOLLY GIRL</td>\n",
       "      <td>4</td>\n",
       "      <td>12/9/11 12:50</td>\n",
       "      <td>4.15</td>\n",
       "      <td>12680.0</td>\n",
       "      <td>France</td>\n",
       "    </tr>\n",
       "    <tr>\n",
       "      <th>1067368</th>\n",
       "      <td>581587</td>\n",
       "      <td>23255</td>\n",
       "      <td>CHILDRENS CUTLERY CIRCUS PARADE</td>\n",
       "      <td>4</td>\n",
       "      <td>12/9/11 12:50</td>\n",
       "      <td>4.15</td>\n",
       "      <td>12680.0</td>\n",
       "      <td>France</td>\n",
       "    </tr>\n",
       "    <tr>\n",
       "      <th>1067369</th>\n",
       "      <td>581587</td>\n",
       "      <td>22138</td>\n",
       "      <td>BAKING SET 9 PIECE RETROSPOT</td>\n",
       "      <td>3</td>\n",
       "      <td>12/9/11 12:50</td>\n",
       "      <td>4.95</td>\n",
       "      <td>12680.0</td>\n",
       "      <td>France</td>\n",
       "    </tr>\n",
       "    <tr>\n",
       "      <th>1067370</th>\n",
       "      <td>581587</td>\n",
       "      <td>POST</td>\n",
       "      <td>POSTAGE</td>\n",
       "      <td>1</td>\n",
       "      <td>12/9/11 12:50</td>\n",
       "      <td>18.0</td>\n",
       "      <td>12680.0</td>\n",
       "      <td>France</td>\n",
       "    </tr>\n",
       "  </tbody>\n",
       "</table>\n",
       "<p>1067371 rows × 8 columns</p>\n",
       "</div>"
      ],
      "text/plain": [
       "        Invoice StockCode                          Description Quantity  \\\n",
       "0        489434     85048  15CM CHRISTMAS GLASS BALL 20 LIGHTS       12   \n",
       "1        489434    79323P                   PINK CHERRY LIGHTS       12   \n",
       "2        489434    79323W                  WHITE CHERRY LIGHTS       12   \n",
       "3        489434     22041         RECORD FRAME 7\" SINGLE SIZE        48   \n",
       "4        489434     21232       STRAWBERRY CERAMIC TRINKET BOX       24   \n",
       "...         ...       ...                                  ...      ...   \n",
       "1067366  581587     22899         CHILDREN'S APRON DOLLY GIRL         6   \n",
       "1067367  581587     23254        CHILDRENS CUTLERY DOLLY GIRL         4   \n",
       "1067368  581587     23255      CHILDRENS CUTLERY CIRCUS PARADE        4   \n",
       "1067369  581587     22138        BAKING SET 9 PIECE RETROSPOT         3   \n",
       "1067370  581587      POST                              POSTAGE        1   \n",
       "\n",
       "           InvoiceDate Price Customer ID         Country  \n",
       "0         12/1/09 7:45  6.95     13085.0  United Kingdom  \n",
       "1         12/1/09 7:45  6.75     13085.0  United Kingdom  \n",
       "2         12/1/09 7:45  6.75     13085.0  United Kingdom  \n",
       "3         12/1/09 7:45   2.1     13085.0  United Kingdom  \n",
       "4         12/1/09 7:45  1.25     13085.0  United Kingdom  \n",
       "...                ...   ...         ...             ...  \n",
       "1067366  12/9/11 12:50   2.1     12680.0          France  \n",
       "1067367  12/9/11 12:50  4.15     12680.0          France  \n",
       "1067368  12/9/11 12:50  4.15     12680.0          France  \n",
       "1067369  12/9/11 12:50  4.95     12680.0          France  \n",
       "1067370  12/9/11 12:50  18.0     12680.0          France  \n",
       "\n",
       "[1067371 rows x 8 columns]"
      ]
     },
     "execution_count": 21,
     "metadata": {},
     "output_type": "execute_result"
    }
   ],
   "source": [
    "df"
   ]
  },
  {
   "cell_type": "code",
   "execution_count": 22,
   "id": "2ece3133-6a5b-40f5-89ca-5f04b6a63745",
   "metadata": {},
   "outputs": [
    {
     "name": "stdout",
     "output_type": "stream",
     "text": [
      "SchemaError:           index  failure_case\n",
      "0          178           -12\n",
      "1          179            -6\n",
      "2          180            -4\n",
      "3          181            -6\n",
      "4          182           -12\n",
      "...        ...           ...\n",
      "22945  1065910           -11\n",
      "22946  1067002            -1\n",
      "22947  1067176            -5\n",
      "22948  1067177            -1\n",
      "22949  1067178            -5\n",
      "\n",
      "[22950 rows x 2 columns]\n"
     ]
    }
   ],
   "source": [
    "failure_cases = None\n",
    "try:\n",
    "    quantity_validation = quantity_schema.validate(df[\"Quantity\"])\n",
    "    print(\"Quantity data has values that are as expected\")\n",
    "except pa.errors.SchemaError as err:\n",
    "    print('SchemaError: ', err.failure_cases)"
   ]
  },
  {
   "cell_type": "code",
   "execution_count": 23,
   "id": "d7b776a9-bd92-4305-ad57-a8305798da6a",
   "metadata": {},
   "outputs": [
    {
     "name": "stdout",
     "output_type": "stream",
     "text": [
      "InvoiceDate data has values that are as expected\n"
     ]
    },
    {
     "name": "stderr",
     "output_type": "stream",
     "text": [
      "/Users/rajivsambasivan/opt/anaconda3/envs/rrenv/lib/python3.10/site-packages/pandera/engines/pandas_engine.py:733: FutureWarning: Using .astype to convert from timezone-naive dtype to timezone-aware dtype is deprecated and will raise in a future version.  Use ser.dt.tz_localize instead.\n",
      "  return col.astype(pandas_dtype)\n"
     ]
    }
   ],
   "source": [
    "failure_cases = None\n",
    "try:\n",
    "    invoice_date_validation = invoice_date_schema.validate(df[\"InvoiceDate\"])\n",
    "    print(\"InvoiceDate data has values that are as expected\")\n",
    "except pa.errors.SchemaError as err:\n",
    "    print('SchemaError: ', err.failure_cases)"
   ]
  },
  {
   "cell_type": "code",
   "execution_count": 24,
   "id": "e28e2bb0-0c04-493f-8535-2225fc6e4beb",
   "metadata": {},
   "outputs": [],
   "source": [
    "price_schema = pa.SeriesSchema(\n",
    "    float,\n",
    "    [pa.Check.greater_than(0)],\n",
    "    coerce=True,\n",
    "    nullable=False,\n",
    "    name=\"Price\")"
   ]
  },
  {
   "cell_type": "code",
   "execution_count": 25,
   "id": "b0807a01-30cf-48d2-b153-55782fa0b1ff",
   "metadata": {},
   "outputs": [
    {
     "name": "stdout",
     "output_type": "stream",
     "text": [
      "SchemaError:          index  failure_case\n",
      "0         263           0.0\n",
      "1         283           0.0\n",
      "2         284           0.0\n",
      "3         470           0.0\n",
      "4        3114           0.0\n",
      "...       ...           ...\n",
      "6202  1062442           0.0\n",
      "6203  1063965           0.0\n",
      "6204  1063966           0.0\n",
      "6205  1064015           0.0\n",
      "6206  1064386           0.0\n",
      "\n",
      "[6207 rows x 2 columns]\n"
     ]
    }
   ],
   "source": [
    "failure_cases = None\n",
    "try:\n",
    "    price_validation = price_schema.validate(df[\"Price\"])\n",
    "    print(\"Price data has values that are as expected\")\n",
    "except pa.errors.SchemaError as err:\n",
    "    print('SchemaError: ', err.failure_cases)"
   ]
  },
  {
   "cell_type": "code",
   "execution_count": 26,
   "id": "458f1e88-2d91-4251-bd3e-858ee1dfd84f",
   "metadata": {},
   "outputs": [],
   "source": [
    "customer_schema = pa.SeriesSchema(\n",
    "    str,\n",
    "    coerce=True,\n",
    "    nullable=False,\n",
    "    name=\"Customer ID\")"
   ]
  },
  {
   "cell_type": "code",
   "execution_count": 27,
   "id": "0f5f5768-c696-4097-9c64-7cfe342d3c96",
   "metadata": {},
   "outputs": [
    {
     "name": "stdout",
     "output_type": "stream",
     "text": [
      "SchemaError:            index failure_case\n",
      "0           263          NaN\n",
      "1           283          NaN\n",
      "2           284          NaN\n",
      "3           470          NaN\n",
      "4           577          NaN\n",
      "...         ...          ...\n",
      "243002  1066997          NaN\n",
      "243003  1066998          NaN\n",
      "243004  1066999          NaN\n",
      "243005  1067000          NaN\n",
      "243006  1067001          NaN\n",
      "\n",
      "[243007 rows x 2 columns]\n"
     ]
    }
   ],
   "source": [
    "failure_cases = None\n",
    "try:\n",
    "    customer_validation = customer_schema.validate(df[\"Customer ID\"])\n",
    "    print(\"Customer ID data has values that are as expected\")\n",
    "except pa.errors.SchemaError as err:\n",
    "    print('SchemaError: ', err.failure_cases)"
   ]
  },
  {
   "cell_type": "code",
   "execution_count": 28,
   "id": "6b7afa60-b801-439b-99a1-67f43e7b6399",
   "metadata": {},
   "outputs": [],
   "source": [
    "country_schema = pa.SeriesSchema(\n",
    "    str,\n",
    "    coerce=True,\n",
    "    nullable=False,\n",
    "    name=\"Country\")"
   ]
  },
  {
   "cell_type": "code",
   "execution_count": 29,
   "id": "6d5d8bde-7d9a-4462-ba6b-7349059ce1f7",
   "metadata": {},
   "outputs": [
    {
     "name": "stdout",
     "output_type": "stream",
     "text": [
      "Countrydata has values that are as expected\n"
     ]
    }
   ],
   "source": [
    "failure_cases = None\n",
    "try:\n",
    "    country_validation = country_schema.validate(df[\"Country\"])\n",
    "    print(\"Countrydata has values that are as expected\")\n",
    "except pa.errors.SchemaError as err:\n",
    "    print('SchemaError: ', err.failure_cases)"
   ]
  },
  {
   "cell_type": "code",
   "execution_count": null,
   "id": "3f6b7b68-1f08-4d67-bc93-0111d1bdc8c2",
   "metadata": {},
   "outputs": [],
   "source": []
  }
 ],
 "metadata": {
  "kernelspec": {
   "display_name": "Python 3 (ipykernel)",
   "language": "python",
   "name": "python3"
  },
  "language_info": {
   "codemirror_mode": {
    "name": "ipython",
    "version": 3
   },
   "file_extension": ".py",
   "mimetype": "text/x-python",
   "name": "python",
   "nbconvert_exporter": "python",
   "pygments_lexer": "ipython3",
   "version": "3.10.12"
  }
 },
 "nbformat": 4,
 "nbformat_minor": 5
}
